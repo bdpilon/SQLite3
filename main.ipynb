{
 "cells": [
  {
   "cell_type": "code",
   "execution_count": null,
   "metadata": {},
   "outputs": [],
   "source": [
    "# project: p13\n",
    "# submitter: bpilon\n",
    "# partner: None"
   ]
  },
  {
   "cell_type": "code",
   "execution_count": 1,
   "metadata": {},
   "outputs": [],
   "source": [
    "import os\n",
    "import time\n",
    "import requests\n",
    "import pandas as pd\n",
    "from pandas import DataFrame, Series\n",
    "import copy\n",
    "import math\n",
    "import numpy as np\n",
    "import matplotlib\n",
    "from matplotlib import pyplot as plt\n"
   ]
  },
  {
   "cell_type": "code",
   "execution_count": 2,
   "metadata": {},
   "outputs": [],
   "source": [
    "def download(filename, url):\n",
    "    # We do not download again if the file already exists\n",
    "    if os.path.exists(filename):\n",
    "        return str(filename) + \" already exists!\"\n",
    "    #Download\n",
    "    r = requests.get(url)\n",
    "    r.raise_for_status\n",
    "    print(filename)\n",
    "    f = open(filename, 'w',  encoding = \"utf-8\")\n",
    "    f.write(r.text)\n",
    "    f.close()\n",
    "    return str(filename) + \" created!\""
   ]
  },
  {
   "cell_type": "code",
   "execution_count": 3,
   "metadata": {},
   "outputs": [
    {
     "data": {
      "text/html": [
       "<div>\n",
       "<style scoped>\n",
       "    .dataframe tbody tr th:only-of-type {\n",
       "        vertical-align: middle;\n",
       "    }\n",
       "\n",
       "    .dataframe tbody tr th {\n",
       "        vertical-align: top;\n",
       "    }\n",
       "\n",
       "    .dataframe thead th {\n",
       "        text-align: right;\n",
       "    }\n",
       "</style>\n",
       "<table border=\"1\" class=\"dataframe\">\n",
       "  <thead>\n",
       "    <tr style=\"text-align: right;\">\n",
       "      <th></th>\n",
       "      <th>area</th>\n",
       "      <th>birth-rate</th>\n",
       "      <th>coastline</th>\n",
       "      <th>continent</th>\n",
       "      <th>country</th>\n",
       "      <th>death-rate</th>\n",
       "      <th>gdp-per-capita</th>\n",
       "      <th>infant-mortality</th>\n",
       "      <th>literacy</th>\n",
       "      <th>net-migration</th>\n",
       "      <th>phones</th>\n",
       "      <th>population</th>\n",
       "      <th>region</th>\n",
       "    </tr>\n",
       "  </thead>\n",
       "  <tbody>\n",
       "    <tr>\n",
       "      <th>0</th>\n",
       "      <td>756950</td>\n",
       "      <td>15.23</td>\n",
       "      <td>0.85</td>\n",
       "      <td>South America</td>\n",
       "      <td>Chile</td>\n",
       "      <td>5.81</td>\n",
       "      <td>9900</td>\n",
       "      <td>8.80</td>\n",
       "      <td>96,2</td>\n",
       "      <td>0.00</td>\n",
       "      <td>213,0</td>\n",
       "      <td>16134219</td>\n",
       "      <td>LATIN AMER. &amp; CARIB</td>\n",
       "    </tr>\n",
       "    <tr>\n",
       "      <th>1</th>\n",
       "      <td>665</td>\n",
       "      <td>17.80</td>\n",
       "      <td>24.21</td>\n",
       "      <td>Asia</td>\n",
       "      <td>Bahrain</td>\n",
       "      <td>4.14</td>\n",
       "      <td>16900</td>\n",
       "      <td>17.27</td>\n",
       "      <td>89,1</td>\n",
       "      <td>1.05</td>\n",
       "      <td>281,3</td>\n",
       "      <td>698585</td>\n",
       "      <td>NEAR EAST</td>\n",
       "    </tr>\n",
       "    <tr>\n",
       "      <th>2</th>\n",
       "      <td>22966</td>\n",
       "      <td>28.84</td>\n",
       "      <td>1.68</td>\n",
       "      <td>North America</td>\n",
       "      <td>Belize</td>\n",
       "      <td>5.72</td>\n",
       "      <td>4900</td>\n",
       "      <td>25.69</td>\n",
       "      <td>94,1</td>\n",
       "      <td>0.00</td>\n",
       "      <td>115,7</td>\n",
       "      <td>287730</td>\n",
       "      <td>LATIN AMER. &amp; CARIB</td>\n",
       "    </tr>\n",
       "    <tr>\n",
       "      <th>3</th>\n",
       "      <td>582650</td>\n",
       "      <td>39.72</td>\n",
       "      <td>0.09</td>\n",
       "      <td>Africa</td>\n",
       "      <td>Kenya</td>\n",
       "      <td>14.02</td>\n",
       "      <td>1000</td>\n",
       "      <td>61.47</td>\n",
       "      <td>85,1</td>\n",
       "      <td>-0.10</td>\n",
       "      <td>8,1</td>\n",
       "      <td>34707817</td>\n",
       "      <td>SUB-SAHARAN AFRICA</td>\n",
       "    </tr>\n",
       "    <tr>\n",
       "      <th>4</th>\n",
       "      <td>11854</td>\n",
       "      <td>33.05</td>\n",
       "      <td>3.12</td>\n",
       "      <td>Australia</td>\n",
       "      <td>Marshall Islands</td>\n",
       "      <td>4.78</td>\n",
       "      <td>1600</td>\n",
       "      <td>29.45</td>\n",
       "      <td>93,7</td>\n",
       "      <td>-6.04</td>\n",
       "      <td>91,2</td>\n",
       "      <td>60422</td>\n",
       "      <td>OCEANIA</td>\n",
       "    </tr>\n",
       "    <tr>\n",
       "      <th>...</th>\n",
       "      <td>...</td>\n",
       "      <td>...</td>\n",
       "      <td>...</td>\n",
       "      <td>...</td>\n",
       "      <td>...</td>\n",
       "      <td>...</td>\n",
       "      <td>...</td>\n",
       "      <td>...</td>\n",
       "      <td>...</td>\n",
       "      <td>...</td>\n",
       "      <td>...</td>\n",
       "      <td>...</td>\n",
       "      <td>...</td>\n",
       "    </tr>\n",
       "    <tr>\n",
       "      <th>169</th>\n",
       "      <td>2381740</td>\n",
       "      <td>17.14</td>\n",
       "      <td>0.04</td>\n",
       "      <td>Africa</td>\n",
       "      <td>Algeria</td>\n",
       "      <td>4.61</td>\n",
       "      <td>6000</td>\n",
       "      <td>31.00</td>\n",
       "      <td>70,0</td>\n",
       "      <td>-0.39</td>\n",
       "      <td>78,1</td>\n",
       "      <td>32930091</td>\n",
       "      <td>NORTHERN AFRICA</td>\n",
       "    </tr>\n",
       "    <tr>\n",
       "      <th>170</th>\n",
       "      <td>103000</td>\n",
       "      <td>13.64</td>\n",
       "      <td>4.83</td>\n",
       "      <td>Europe</td>\n",
       "      <td>Iceland</td>\n",
       "      <td>6.72</td>\n",
       "      <td>30900</td>\n",
       "      <td>3.31</td>\n",
       "      <td>99,9</td>\n",
       "      <td>2.38</td>\n",
       "      <td>647,7</td>\n",
       "      <td>299388</td>\n",
       "      <td>WESTERN EUROPE</td>\n",
       "    </tr>\n",
       "    <tr>\n",
       "      <th>171</th>\n",
       "      <td>748</td>\n",
       "      <td>25.37</td>\n",
       "      <td>56.02</td>\n",
       "      <td>Australia</td>\n",
       "      <td>Tonga</td>\n",
       "      <td>5.28</td>\n",
       "      <td>2200</td>\n",
       "      <td>12.62</td>\n",
       "      <td>98,5</td>\n",
       "      <td>0.00</td>\n",
       "      <td>97,7</td>\n",
       "      <td>114689</td>\n",
       "      <td>OCEANIA</td>\n",
       "    </tr>\n",
       "    <tr>\n",
       "      <th>172</th>\n",
       "      <td>27750</td>\n",
       "      <td>36.44</td>\n",
       "      <td>6.38</td>\n",
       "      <td>North America</td>\n",
       "      <td>Haiti</td>\n",
       "      <td>12.17</td>\n",
       "      <td>1600</td>\n",
       "      <td>73.45</td>\n",
       "      <td>52,9</td>\n",
       "      <td>-3.40</td>\n",
       "      <td>16,9</td>\n",
       "      <td>8308504</td>\n",
       "      <td>LATIN AMER. &amp; CARIB</td>\n",
       "    </tr>\n",
       "    <tr>\n",
       "      <th>173</th>\n",
       "      <td>1284000</td>\n",
       "      <td>45.73</td>\n",
       "      <td>0.00</td>\n",
       "      <td>Africa</td>\n",
       "      <td>Chad</td>\n",
       "      <td>16.38</td>\n",
       "      <td>1200</td>\n",
       "      <td>93.82</td>\n",
       "      <td>47,5</td>\n",
       "      <td>-0.11</td>\n",
       "      <td>1,3</td>\n",
       "      <td>9944201</td>\n",
       "      <td>SUB-SAHARAN AFRICA</td>\n",
       "    </tr>\n",
       "  </tbody>\n",
       "</table>\n",
       "<p>174 rows × 13 columns</p>\n",
       "</div>"
      ],
      "text/plain": [
       "        area  birth-rate  coastline      continent           country  \\\n",
       "0     756950       15.23       0.85  South America             Chile   \n",
       "1        665       17.80      24.21           Asia           Bahrain   \n",
       "2      22966       28.84       1.68  North America            Belize   \n",
       "3     582650       39.72       0.09         Africa             Kenya   \n",
       "4      11854       33.05       3.12      Australia  Marshall Islands   \n",
       "..       ...         ...        ...            ...               ...   \n",
       "169  2381740       17.14       0.04         Africa           Algeria   \n",
       "170   103000       13.64       4.83         Europe           Iceland   \n",
       "171      748       25.37      56.02      Australia             Tonga   \n",
       "172    27750       36.44       6.38  North America             Haiti   \n",
       "173  1284000       45.73       0.00         Africa              Chad   \n",
       "\n",
       "     death-rate  gdp-per-capita  infant-mortality literacy  net-migration  \\\n",
       "0          5.81            9900              8.80     96,2           0.00   \n",
       "1          4.14           16900             17.27     89,1           1.05   \n",
       "2          5.72            4900             25.69     94,1           0.00   \n",
       "3         14.02            1000             61.47     85,1          -0.10   \n",
       "4          4.78            1600             29.45     93,7          -6.04   \n",
       "..          ...             ...               ...      ...            ...   \n",
       "169        4.61            6000             31.00     70,0          -0.39   \n",
       "170        6.72           30900              3.31     99,9           2.38   \n",
       "171        5.28            2200             12.62     98,5           0.00   \n",
       "172       12.17            1600             73.45     52,9          -3.40   \n",
       "173       16.38            1200             93.82     47,5          -0.11   \n",
       "\n",
       "    phones  population               region  \n",
       "0    213,0    16134219  LATIN AMER. & CARIB  \n",
       "1    281,3      698585            NEAR EAST  \n",
       "2    115,7      287730  LATIN AMER. & CARIB  \n",
       "3      8,1    34707817   SUB-SAHARAN AFRICA  \n",
       "4     91,2       60422              OCEANIA  \n",
       "..     ...         ...                  ...  \n",
       "169   78,1    32930091      NORTHERN AFRICA  \n",
       "170  647,7      299388       WESTERN EUROPE  \n",
       "171   97,7      114689              OCEANIA  \n",
       "172   16,9     8308504  LATIN AMER. & CARIB  \n",
       "173    1,3     9944201   SUB-SAHARAN AFRICA  \n",
       "\n",
       "[174 rows x 13 columns]"
      ]
     },
     "execution_count": 3,
     "metadata": {},
     "output_type": "execute_result"
    }
   ],
   "source": [
    "download('countries.json', 'https://raw.githubusercontent.com/msyamkumar/cs220-f20-projects/master/p13/countries.json')\n",
    "countries = pd.read_json('countries.json')\n",
    "countries"
   ]
  },
  {
   "cell_type": "code",
   "execution_count": 4,
   "metadata": {},
   "outputs": [],
   "source": [
    "import sqlite3\n",
    "conn = sqlite3.connect('countries.db')\n",
    "countries.to_sql(\"countries\", conn, if_exists=\"replace\", index=False)"
   ]
  },
  {
   "cell_type": "code",
   "execution_count": 5,
   "metadata": {},
   "outputs": [],
   "source": [
    "def qry(sql, cap=10):\n",
    "    return pd.read_sql(sql,c).head(cap)\n",
    "\n",
    "c = sqlite3.connect(\"countries.db\")\n"
   ]
  },
  {
   "cell_type": "code",
   "execution_count": 6,
   "metadata": {},
   "outputs": [
    {
     "data": {
      "text/html": [
       "<div>\n",
       "<style scoped>\n",
       "    .dataframe tbody tr th:only-of-type {\n",
       "        vertical-align: middle;\n",
       "    }\n",
       "\n",
       "    .dataframe tbody tr th {\n",
       "        vertical-align: top;\n",
       "    }\n",
       "\n",
       "    .dataframe thead th {\n",
       "        text-align: right;\n",
       "    }\n",
       "</style>\n",
       "<table border=\"1\" class=\"dataframe\">\n",
       "  <thead>\n",
       "    <tr style=\"text-align: right;\">\n",
       "      <th></th>\n",
       "      <th>region</th>\n",
       "      <th>number of countries</th>\n",
       "    </tr>\n",
       "  </thead>\n",
       "  <tbody>\n",
       "    <tr>\n",
       "      <th>0</th>\n",
       "      <td>SUB-SAHARAN AFRICA</td>\n",
       "      <td>42</td>\n",
       "    </tr>\n",
       "    <tr>\n",
       "      <th>1</th>\n",
       "      <td>LATIN AMER. &amp; CARIB</td>\n",
       "      <td>33</td>\n",
       "    </tr>\n",
       "    <tr>\n",
       "      <th>2</th>\n",
       "      <td>WESTERN EUROPE</td>\n",
       "      <td>22</td>\n",
       "    </tr>\n",
       "    <tr>\n",
       "      <th>3</th>\n",
       "      <td>ASIA (EX. NEAR EAST)</td>\n",
       "      <td>21</td>\n",
       "    </tr>\n",
       "    <tr>\n",
       "      <th>4</th>\n",
       "      <td>NEAR EAST</td>\n",
       "      <td>13</td>\n",
       "    </tr>\n",
       "    <tr>\n",
       "      <th>5</th>\n",
       "      <td>C.W. OF IND. STATES</td>\n",
       "      <td>12</td>\n",
       "    </tr>\n",
       "    <tr>\n",
       "      <th>6</th>\n",
       "      <td>OCEANIA</td>\n",
       "      <td>12</td>\n",
       "    </tr>\n",
       "    <tr>\n",
       "      <th>7</th>\n",
       "      <td>EASTERN EUROPE</td>\n",
       "      <td>8</td>\n",
       "    </tr>\n",
       "    <tr>\n",
       "      <th>8</th>\n",
       "      <td>NORTHERN AFRICA</td>\n",
       "      <td>5</td>\n",
       "    </tr>\n",
       "    <tr>\n",
       "      <th>9</th>\n",
       "      <td>BALTICS</td>\n",
       "      <td>3</td>\n",
       "    </tr>\n",
       "    <tr>\n",
       "      <th>10</th>\n",
       "      <td>NORTHERN AMERICA</td>\n",
       "      <td>3</td>\n",
       "    </tr>\n",
       "  </tbody>\n",
       "</table>\n",
       "</div>"
      ],
      "text/plain": [
       "                  region  number of countries\n",
       "0     SUB-SAHARAN AFRICA                   42\n",
       "1    LATIN AMER. & CARIB                   33\n",
       "2         WESTERN EUROPE                   22\n",
       "3   ASIA (EX. NEAR EAST)                   21\n",
       "4              NEAR EAST                   13\n",
       "5    C.W. OF IND. STATES                   12\n",
       "6                OCEANIA                   12\n",
       "7         EASTERN EUROPE                    8\n",
       "8        NORTHERN AFRICA                    5\n",
       "9                BALTICS                    3\n",
       "10      NORTHERN AMERICA                    3"
      ]
     },
     "execution_count": 6,
     "metadata": {},
     "output_type": "execute_result"
    }
   ],
   "source": [
    "#Q1: In our dataset, how many countries are in each region?\n",
    "\n",
    "q1 = qry(\"\"\"\n",
    "SELECT region, COUNT(country) AS `number of countries`\n",
    "FROM countries\n",
    "GROUP BY region\n",
    "ORDER BY COUNT(country) DESC, region ASC\n",
    "\"\"\", cap = len(pd.unique(countries['region'])))\n",
    "\n",
    "q1"
   ]
  },
  {
   "cell_type": "code",
   "execution_count": 7,
   "metadata": {},
   "outputs": [
    {
     "data": {
      "image/png": "[encoded data removed]",
      "text/plain": [
       "<Figure size 432x288 with 1 Axes>"
      ]
     },
     "metadata": {
      "needs_background": "light"
     },
     "output_type": "display_data"
    }
   ],
   "source": [
    "#Q2: How many countries are in each region? (answer with a plot)\n",
    "q2 = copy.deepcopy(q1)\n",
    "q2 = q2.set_index(\"region\")\n",
    "ax = q2.plot.bar()\n",
    "ax.set_ylabel(\"number of countries\")\n",
    "ax.set_title(\"region\")\n",
    "ax.get_legend().remove()"
   ]
  },
  {
   "cell_type": "code",
   "execution_count": 8,
   "metadata": {},
   "outputs": [
    {
     "data": {
      "text/html": [
       "<div>\n",
       "<style scoped>\n",
       "    .dataframe tbody tr th:only-of-type {\n",
       "        vertical-align: middle;\n",
       "    }\n",
       "\n",
       "    .dataframe tbody tr th {\n",
       "        vertical-align: top;\n",
       "    }\n",
       "\n",
       "    .dataframe thead th {\n",
       "        text-align: right;\n",
       "    }\n",
       "</style>\n",
       "<table border=\"1\" class=\"dataframe\">\n",
       "  <thead>\n",
       "    <tr style=\"text-align: right;\">\n",
       "      <th></th>\n",
       "      <th>region</th>\n",
       "      <th>total area</th>\n",
       "    </tr>\n",
       "  </thead>\n",
       "  <tbody>\n",
       "    <tr>\n",
       "      <th>0</th>\n",
       "      <td>ASIA (EX. NEAR EAST)</td>\n",
       "      <td>22177295</td>\n",
       "    </tr>\n",
       "    <tr>\n",
       "      <th>1</th>\n",
       "      <td>C.W. OF IND. STATES</td>\n",
       "      <td>22100843</td>\n",
       "    </tr>\n",
       "    <tr>\n",
       "      <th>2</th>\n",
       "      <td>LATIN AMER. &amp; CARIB</td>\n",
       "      <td>20426877</td>\n",
       "    </tr>\n",
       "    <tr>\n",
       "      <th>3</th>\n",
       "      <td>NORTHERN AMERICA</td>\n",
       "      <td>19616143</td>\n",
       "    </tr>\n",
       "    <tr>\n",
       "      <th>4</th>\n",
       "      <td>SUB-SAHARAN AFRICA</td>\n",
       "      <td>19446660</td>\n",
       "    </tr>\n",
       "    <tr>\n",
       "      <th>5</th>\n",
       "      <td>OCEANIA</td>\n",
       "      <td>8488612</td>\n",
       "    </tr>\n",
       "    <tr>\n",
       "      <th>6</th>\n",
       "      <td>NORTHERN AFRICA</td>\n",
       "      <td>5752890</td>\n",
       "    </tr>\n",
       "    <tr>\n",
       "      <th>7</th>\n",
       "      <td>NEAR EAST</td>\n",
       "      <td>4340116</td>\n",
       "    </tr>\n",
       "    <tr>\n",
       "      <th>8</th>\n",
       "      <td>WESTERN EUROPE</td>\n",
       "      <td>3707838</td>\n",
       "    </tr>\n",
       "    <tr>\n",
       "      <th>9</th>\n",
       "      <td>EASTERN EUROPE</td>\n",
       "      <td>938554</td>\n",
       "    </tr>\n",
       "    <tr>\n",
       "      <th>10</th>\n",
       "      <td>BALTICS</td>\n",
       "      <td>175015</td>\n",
       "    </tr>\n",
       "  </tbody>\n",
       "</table>\n",
       "</div>"
      ],
      "text/plain": [
       "                  region  total area\n",
       "0   ASIA (EX. NEAR EAST)    22177295\n",
       "1    C.W. OF IND. STATES    22100843\n",
       "2    LATIN AMER. & CARIB    20426877\n",
       "3       NORTHERN AMERICA    19616143\n",
       "4     SUB-SAHARAN AFRICA    19446660\n",
       "5                OCEANIA     8488612\n",
       "6        NORTHERN AFRICA     5752890\n",
       "7              NEAR EAST     4340116\n",
       "8         WESTERN EUROPE     3707838\n",
       "9         EASTERN EUROPE      938554\n",
       "10               BALTICS      175015"
      ]
     },
     "execution_count": 8,
     "metadata": {},
     "output_type": "execute_result"
    }
   ],
   "source": [
    "#Q3: What is the total area of each region?\n",
    "\n",
    "q3 = qry(\"\"\"\n",
    "SELECT region, SUM(area) AS `total area`\n",
    "FROM countries\n",
    "GROUP BY region\n",
    "ORDER BY SUM(area) DESC, region ASC\n",
    "\"\"\", cap = len(pd.unique(countries['region'])))\n",
    "\n",
    "q3"
   ]
  },
  {
   "cell_type": "code",
   "execution_count": 9,
   "metadata": {},
   "outputs": [
    {
     "data": {
      "image/png": "[encoded data removed]",
      "text/plain": [
       "<Figure size 432x288 with 1 Axes>"
      ]
     },
     "metadata": {
      "needs_background": "light"
     },
     "output_type": "display_data"
    }
   ],
   "source": [
    "#Q4: What is the total area of each region? (answer with a plot)\n",
    "\n",
    "q4 = copy.deepcopy(q3)\n",
    "q4 = q4.set_index(\"region\")\n",
    "ax = q4.plot.bar()\n",
    "ax.set_ylabel(\"total area\")\n",
    "ax.set_title(\"region\")\n",
    "ax.get_legend().remove()"
   ]
  },
  {
   "cell_type": "code",
   "execution_count": 10,
   "metadata": {},
   "outputs": [
    {
     "data": {
      "text/html": [
       "<div>\n",
       "<style scoped>\n",
       "    .dataframe tbody tr th:only-of-type {\n",
       "        vertical-align: middle;\n",
       "    }\n",
       "\n",
       "    .dataframe tbody tr th {\n",
       "        vertical-align: top;\n",
       "    }\n",
       "\n",
       "    .dataframe thead th {\n",
       "        text-align: right;\n",
       "    }\n",
       "</style>\n",
       "<table border=\"1\" class=\"dataframe\">\n",
       "  <thead>\n",
       "    <tr style=\"text-align: right;\">\n",
       "      <th></th>\n",
       "      <th>country</th>\n",
       "      <th>area</th>\n",
       "    </tr>\n",
       "  </thead>\n",
       "  <tbody>\n",
       "    <tr>\n",
       "      <th>0</th>\n",
       "      <td>Saudi Arabia</td>\n",
       "      <td>1960582</td>\n",
       "    </tr>\n",
       "    <tr>\n",
       "      <th>1</th>\n",
       "      <td>Turkey</td>\n",
       "      <td>780580</td>\n",
       "    </tr>\n",
       "    <tr>\n",
       "      <th>2</th>\n",
       "      <td>Yemen</td>\n",
       "      <td>527970</td>\n",
       "    </tr>\n",
       "    <tr>\n",
       "      <th>3</th>\n",
       "      <td>Iraq</td>\n",
       "      <td>437072</td>\n",
       "    </tr>\n",
       "    <tr>\n",
       "      <th>4</th>\n",
       "      <td>Oman</td>\n",
       "      <td>212460</td>\n",
       "    </tr>\n",
       "    <tr>\n",
       "      <th>5</th>\n",
       "      <td>Syria</td>\n",
       "      <td>185180</td>\n",
       "    </tr>\n",
       "    <tr>\n",
       "      <th>6</th>\n",
       "      <td>Jordan</td>\n",
       "      <td>92300</td>\n",
       "    </tr>\n",
       "    <tr>\n",
       "      <th>7</th>\n",
       "      <td>United Arab Emirates</td>\n",
       "      <td>82880</td>\n",
       "    </tr>\n",
       "    <tr>\n",
       "      <th>8</th>\n",
       "      <td>Israel</td>\n",
       "      <td>20770</td>\n",
       "    </tr>\n",
       "    <tr>\n",
       "      <th>9</th>\n",
       "      <td>Kuwait</td>\n",
       "      <td>17820</td>\n",
       "    </tr>\n",
       "    <tr>\n",
       "      <th>10</th>\n",
       "      <td>Qatar</td>\n",
       "      <td>11437</td>\n",
       "    </tr>\n",
       "    <tr>\n",
       "      <th>11</th>\n",
       "      <td>Lebanon</td>\n",
       "      <td>10400</td>\n",
       "    </tr>\n",
       "    <tr>\n",
       "      <th>12</th>\n",
       "      <td>Bahrain</td>\n",
       "      <td>665</td>\n",
       "    </tr>\n",
       "  </tbody>\n",
       "</table>\n",
       "</div>"
      ],
      "text/plain": [
       "                 country     area\n",
       "0           Saudi Arabia  1960582\n",
       "1                 Turkey   780580\n",
       "2                  Yemen   527970\n",
       "3                   Iraq   437072\n",
       "4                   Oman   212460\n",
       "5                  Syria   185180\n",
       "6                 Jordan    92300\n",
       "7   United Arab Emirates    82880\n",
       "8                 Israel    20770\n",
       "9                 Kuwait    17820\n",
       "10                 Qatar    11437\n",
       "11               Lebanon    10400\n",
       "12               Bahrain      665"
      ]
     },
     "execution_count": 10,
     "metadata": {},
     "output_type": "execute_result"
    }
   ],
   "source": [
    "#Q5: What is the area of each country in the Near East region?\n",
    "q5 = qry(\"\"\"\n",
    "SELECT country, area\n",
    "FROM countries\n",
    "WHERE region == 'NEAR EAST'\n",
    "ORDER BY area DESC, region ASC\n",
    "\"\"\", cap = len(pd.unique(countries['country'])))\n",
    "\n",
    "q5"
   ]
  },
  {
   "cell_type": "code",
   "execution_count": 11,
   "metadata": {},
   "outputs": [
    {
     "data": {
      "text/html": [
       "<div>\n",
       "<style scoped>\n",
       "    .dataframe tbody tr th:only-of-type {\n",
       "        vertical-align: middle;\n",
       "    }\n",
       "\n",
       "    .dataframe tbody tr th {\n",
       "        vertical-align: top;\n",
       "    }\n",
       "\n",
       "    .dataframe thead th {\n",
       "        text-align: right;\n",
       "    }\n",
       "</style>\n",
       "<table border=\"1\" class=\"dataframe\">\n",
       "  <thead>\n",
       "    <tr style=\"text-align: right;\">\n",
       "      <th></th>\n",
       "      <th>country</th>\n",
       "      <th>Real GDP(billion)</th>\n",
       "    </tr>\n",
       "  </thead>\n",
       "  <tbody>\n",
       "    <tr>\n",
       "      <th>0</th>\n",
       "      <td>United States</td>\n",
       "      <td>11281.191327</td>\n",
       "    </tr>\n",
       "    <tr>\n",
       "      <th>1</th>\n",
       "      <td>China</td>\n",
       "      <td>6569.868565</td>\n",
       "    </tr>\n",
       "    <tr>\n",
       "      <th>2</th>\n",
       "      <td>Japan</td>\n",
       "      <td>3594.473830</td>\n",
       "    </tr>\n",
       "    <tr>\n",
       "      <th>3</th>\n",
       "      <td>India</td>\n",
       "      <td>3176.520785</td>\n",
       "    </tr>\n",
       "    <tr>\n",
       "      <th>4</th>\n",
       "      <td>Germany</td>\n",
       "      <td>2274.855452</td>\n",
       "    </tr>\n",
       "    <tr>\n",
       "      <th>5</th>\n",
       "      <td>France</td>\n",
       "      <td>1680.181354</td>\n",
       "    </tr>\n",
       "    <tr>\n",
       "      <th>6</th>\n",
       "      <td>United Kingdom</td>\n",
       "      <td>1678.873538</td>\n",
       "    </tr>\n",
       "    <tr>\n",
       "      <th>7</th>\n",
       "      <td>Italy</td>\n",
       "      <td>1552.164690</td>\n",
       "    </tr>\n",
       "    <tr>\n",
       "      <th>8</th>\n",
       "      <td>Brazil</td>\n",
       "      <td>1429.394525</td>\n",
       "    </tr>\n",
       "    <tr>\n",
       "      <th>9</th>\n",
       "      <td>Russia</td>\n",
       "      <td>1271.752506</td>\n",
       "    </tr>\n",
       "    <tr>\n",
       "      <th>10</th>\n",
       "      <td>Canada</td>\n",
       "      <td>986.348174</td>\n",
       "    </tr>\n",
       "    <tr>\n",
       "      <th>11</th>\n",
       "      <td>Mexico</td>\n",
       "      <td>967.045725</td>\n",
       "    </tr>\n",
       "  </tbody>\n",
       "</table>\n",
       "</div>"
      ],
      "text/plain": [
       "           country  Real GDP(billion)\n",
       "0    United States       11281.191327\n",
       "1            China        6569.868565\n",
       "2            Japan        3594.473830\n",
       "3            India        3176.520785\n",
       "4          Germany        2274.855452\n",
       "5           France        1680.181354\n",
       "6   United Kingdom        1678.873538\n",
       "7            Italy        1552.164690\n",
       "8           Brazil        1429.394525\n",
       "9           Russia        1271.752506\n",
       "10          Canada         986.348174\n",
       "11          Mexico         967.045725"
      ]
     },
     "execution_count": 11,
     "metadata": {},
     "output_type": "execute_result"
    }
   ],
   "source": [
    "#Q6: What are the top 12 countries that have the largest real GDP?\n",
    "q6 = qry(\"\"\"\n",
    "SELECT country, (`gdp-per-capita`*`population`) / 1000000000.0 AS `Real GDP(billion)`\n",
    "FROM countries\n",
    "ORDER BY `Real GDP(billion)` DESC, country ASC\n",
    "\"\"\", cap = 12)\n",
    "\n",
    "q6"
   ]
  },
  {
   "cell_type": "code",
   "execution_count": 12,
   "metadata": {},
   "outputs": [
    {
     "data": {
      "text/plain": [
       "<AxesSubplot:xlabel='country'>"
      ]
     },
     "execution_count": 12,
     "metadata": {},
     "output_type": "execute_result"
    },
    {
     "data": {
      "image/png": "[encoded data removed]",
      "text/plain": [
       "<Figure size 432x288 with 1 Axes>"
      ]
     },
     "metadata": {
      "needs_background": "light"
     },
     "output_type": "display_data"
    }
   ],
   "source": [
    "#Q7: What are the top 12 countries that have the largest real GDP? (answer with a plot)\n",
    "\n",
    "q7 = qry(\"\"\"\n",
    "SELECT country, (`gdp-per-capita`*`population`) / 1000000000.0 AS `Real GDP(billion)`\n",
    "FROM countries\n",
    "ORDER BY `Real GDP(billion)` DESC\n",
    "\"\"\", cap = len(pd.unique(countries['country'])))\n",
    "\n",
    "\n",
    "q7 = q7.set_index(\"country\")\n",
    "q7_pt2 = q7['Real GDP(billion)'].iloc[:12]\n",
    "q7_pt2['other'] = q7['Real GDP(billion)'].iloc[12:].sum()\n",
    "q7_pt2.plot.bar()"
   ]
  },
  {
   "cell_type": "code",
   "execution_count": 13,
   "metadata": {},
   "outputs": [
    {
     "data": {
      "text/plain": [
       "Text(0, 0.5, 'literacy')"
      ]
     },
     "execution_count": 13,
     "metadata": {},
     "output_type": "execute_result"
    },
    {
     "data": {
      "image/png": "[encoded data removed]",
      "text/plain": [
       "<Figure size 432x288 with 1 Axes>"
      ]
     },
     "metadata": {
      "needs_background": "light"
     },
     "output_type": "display_data"
    }
   ],
   "source": [
    "#Q8: What is the relationship between GDP per capita and literacy?\n",
    "\n",
    "def dec_convert(x):\n",
    "    return float(x.replace(',', '.'))\n",
    "    \n",
    "countries['literacy'] = countries['literacy'].apply(dec_convert)\n",
    "\n",
    "\n",
    "ax = countries.plot.scatter(x=\"gdp-per-capita\", y=\"literacy\", c='r', xlim=0, ylim=0)\n",
    "ax.set_xlabel('gdp-per-capita')\n",
    "ax.set_ylabel(\"literacy\")"
   ]
  },
  {
   "cell_type": "code",
   "execution_count": 14,
   "metadata": {},
   "outputs": [
    {
     "data": {
      "text/plain": [
       "0.5154347345101356"
      ]
     },
     "execution_count": 14,
     "metadata": {},
     "output_type": "execute_result"
    }
   ],
   "source": [
    "#Q9: What is the correlation between GDP per capita and literacy?\n",
    "conn.close()\n",
    "\n",
    "conn = sqlite3.connect('countries.db')\n",
    "countries.to_sql(\"countries\", conn, if_exists=\"replace\", index=False)\n",
    "\n",
    "q9 = qry(\"\"\"\n",
    "SELECT (`gdp-per-capita`) / 1.0 AS 'GDP-per-capita', literacy\n",
    "FROM countries\n",
    "ORDER BY `gdp-per-capita` DESC\n",
    "\"\"\", cap = len(pd.unique(countries['country'])))\n",
    "correlation = q9.corr()\n",
    "correlation['GDP-per-capita'].iloc[1]"
   ]
  },
  {
   "cell_type": "code",
   "execution_count": 15,
   "metadata": {},
   "outputs": [
    {
     "data": {
      "text/plain": [
       "Text(0, 0.5, 'phones')"
      ]
     },
     "execution_count": 15,
     "metadata": {},
     "output_type": "execute_result"
    },
    {
     "data": {
      "image/png": "[encoded data removed]",
      "text/plain": [
       "<Figure size 432x288 with 1 Axes>"
      ]
     },
     "metadata": {
      "needs_background": "light"
     },
     "output_type": "display_data"
    }
   ],
   "source": [
    "#Q10: What is the relationship between GDP per capita and phones?\n",
    "\n",
    "countries['phones'] = countries['phones'].apply(dec_convert)\n",
    "ax = countries.plot.scatter(x=\"gdp-per-capita\", y=\"phones\", c='r', xlim=0, ylim=0)\n",
    "ax.set_xlabel('gdp-per-capita')\n",
    "ax.set_ylabel(\"phones\")"
   ]
  },
  {
   "cell_type": "code",
   "execution_count": 16,
   "metadata": {},
   "outputs": [
    {
     "data": {
      "text/plain": [
       "Text(0, 0.5, 'infant-mortality')"
      ]
     },
     "execution_count": 16,
     "metadata": {},
     "output_type": "execute_result"
    },
    {
     "data": {
      "image/png": "[encoded data removed]",
      "text/plain": [
       "<Figure size 432x288 with 1 Axes>"
      ]
     },
     "metadata": {
      "needs_background": "light"
     },
     "output_type": "display_data"
    }
   ],
   "source": [
    "#Q11: What is the relationship between GDP per capita and infant-mortality?\n",
    "\n",
    "ax = countries.plot.scatter(x=\"gdp-per-capita\", y=\"infant-mortality\", c='r', xlim=0, ylim=0)\n",
    "ax.set_xlabel('gdp-per-capita')\n",
    "ax.set_ylabel(\"infant-mortality\")"
   ]
  },
  {
   "cell_type": "code",
   "execution_count": 17,
   "metadata": {},
   "outputs": [
    {
     "data": {
      "text/plain": [
       "Text(0, 0.5, 'inverse infant-mortality')"
      ]
     },
     "execution_count": 17,
     "metadata": {},
     "output_type": "execute_result"
    },
    {
     "data": {
      "image/png": "[encoded data removed]",
      "text/plain": [
       "<Figure size 432x288 with 1 Axes>"
      ]
     },
     "metadata": {
      "needs_background": "light"
     },
     "output_type": "display_data"
    }
   ],
   "source": [
    "#Q12: What is the relationship between GDP per capita and inverse of infant-mortality?\n",
    "q12 = qry(\"\"\"\n",
    "SELECT (`gdp-per-capita`) / 1.0 AS 'GDP-per-capita', 1/`infant-mortality` AS `inverse infant-mortality`\n",
    "FROM countries\n",
    "ORDER BY `gdp-per-capita` DESC\n",
    "\"\"\", cap = len(pd.unique(countries['country'])))\n",
    "\n",
    "ax = q12.plot.scatter(x=\"GDP-per-capita\", y=\"inverse infant-mortality\", c='r', xlim=0, ylim=0)\n",
    "ax.set_xlabel('gdp-per-capita')\n",
    "ax.set_ylabel(\"inverse infant-mortality\")"
   ]
  },
  {
   "cell_type": "code",
   "execution_count": 18,
   "metadata": {},
   "outputs": [
    {
     "data": {
      "text/plain": [
       "(0.018088878836039785, 37.95908987837679)"
      ]
     },
     "execution_count": 18,
     "metadata": {},
     "output_type": "execute_result"
    }
   ],
   "source": [
    "#Q13: fit a y = m * x + n line to the scatter plot in question 10 using the least-squares method; \n",
    "#what are the coefficients m and n?\n",
    "\n",
    "\n",
    "q13 = copy.deepcopy(countries)\n",
    "\n",
    "output = q13[\"phones\"]\n",
    "q13[\"one\"] = 1\n",
    "inputs = q13[[\"gdp-per-capita\", \"one\"]]\n",
    "\n",
    "res = np.linalg.lstsq(inputs, output, rcond=None)\n",
    "\n",
    "slope = res[0][0]\n",
    "intercept = res[0][1]\n",
    "slope, intercept\n",
    "\n",
    "#q13[\"phones-fitted\"] = q13[\"gdp-per-capita\"] * slope + intercept\n",
    "#q13.head()\n",
    "\n",
    "#ax = q13.plot.scatter(x=\"gdp-per-capita\", y=\"phones\", c=\"r\", xlim=0, ylim=0)\n",
    "#ax.set_xlabel(\"gdp-per-capita)\")\n",
    "#ax.set_ylabel(\"phones\")\n",
    "\n",
    "#q13.plot.line(ax=ax, x=\"gdp-per-capita\", y=\"phones-fitted\", color=\"b\")\n"
   ]
  },
  {
   "cell_type": "code",
   "execution_count": 19,
   "metadata": {},
   "outputs": [
    {
     "data": {
      "text/plain": [
       "580.6254549595703"
      ]
     },
     "execution_count": 19,
     "metadata": {},
     "output_type": "execute_result"
    }
   ],
   "source": [
    "#Q14: When gdp-per-capita = 30000, what is the expected value for phones according to the regression model between them?\n",
    "def reg_calc(x,m,n):\n",
    "    return m*x+n\n",
    "\n",
    "reg_calc(30000, slope, intercept)"
   ]
  },
  {
   "cell_type": "code",
   "execution_count": 20,
   "metadata": {},
   "outputs": [
    {
     "data": {
      "text/plain": [
       "<AxesSubplot:xlabel='gdp-per-capita', ylabel='phones'>"
      ]
     },
     "execution_count": 20,
     "metadata": {},
     "output_type": "execute_result"
    },
    {
     "data": {
      "image/png": "[encoded data removed]",
      "text/plain": [
       "<Figure size 432x288 with 1 Axes>"
      ]
     },
     "metadata": {
      "needs_background": "light"
     },
     "output_type": "display_data"
    }
   ],
   "source": [
    "#Q15: plot the regression line to the scatter plot\n",
    "\n",
    "q13[\"phones-fitted\"] = q13[\"gdp-per-capita\"] * slope + intercept\n",
    "q13.head()\n",
    "\n",
    "ax = q13.plot.scatter(x=\"gdp-per-capita\", y=\"phones\", c=\"b\", xlim=0, ylim=0)\n",
    "ax.set_xlabel(\"gdp-per-capita)\")\n",
    "ax.set_ylabel(\"phones\")\n",
    "\n",
    "q13.plot.line(ax=ax, x=\"gdp-per-capita\", y=\"phones-fitted\", color=\"r\")"
   ]
  },
  {
   "cell_type": "code",
   "execution_count": 21,
   "metadata": {},
   "outputs": [
    {
     "data": {
      "text/html": [
       "<div>\n",
       "<style scoped>\n",
       "    .dataframe tbody tr th:only-of-type {\n",
       "        vertical-align: middle;\n",
       "    }\n",
       "\n",
       "    .dataframe tbody tr th {\n",
       "        vertical-align: top;\n",
       "    }\n",
       "\n",
       "    .dataframe thead th {\n",
       "        text-align: right;\n",
       "    }\n",
       "</style>\n",
       "<table border=\"1\" class=\"dataframe\">\n",
       "  <thead>\n",
       "    <tr style=\"text-align: right;\">\n",
       "      <th></th>\n",
       "      <th>country</th>\n",
       "      <th>birth-rate</th>\n",
       "      <th>death-rate</th>\n",
       "    </tr>\n",
       "  </thead>\n",
       "  <tbody>\n",
       "    <tr>\n",
       "      <th>0</th>\n",
       "      <td>Botswana</td>\n",
       "      <td>23.08</td>\n",
       "      <td>29.50</td>\n",
       "    </tr>\n",
       "    <tr>\n",
       "      <th>1</th>\n",
       "      <td>Ukraine</td>\n",
       "      <td>8.82</td>\n",
       "      <td>14.39</td>\n",
       "    </tr>\n",
       "    <tr>\n",
       "      <th>2</th>\n",
       "      <td>Russia</td>\n",
       "      <td>9.95</td>\n",
       "      <td>14.65</td>\n",
       "    </tr>\n",
       "    <tr>\n",
       "      <th>3</th>\n",
       "      <td>Bulgaria</td>\n",
       "      <td>9.65</td>\n",
       "      <td>14.27</td>\n",
       "    </tr>\n",
       "    <tr>\n",
       "      <th>4</th>\n",
       "      <td>Latvia</td>\n",
       "      <td>9.24</td>\n",
       "      <td>13.66</td>\n",
       "    </tr>\n",
       "    <tr>\n",
       "      <th>5</th>\n",
       "      <td>Lesotho</td>\n",
       "      <td>24.75</td>\n",
       "      <td>28.71</td>\n",
       "    </tr>\n",
       "    <tr>\n",
       "      <th>6</th>\n",
       "      <td>South Africa</td>\n",
       "      <td>18.20</td>\n",
       "      <td>22.00</td>\n",
       "    </tr>\n",
       "    <tr>\n",
       "      <th>7</th>\n",
       "      <td>Monaco</td>\n",
       "      <td>9.19</td>\n",
       "      <td>12.91</td>\n",
       "    </tr>\n",
       "    <tr>\n",
       "      <th>8</th>\n",
       "      <td>Hungary</td>\n",
       "      <td>9.72</td>\n",
       "      <td>13.11</td>\n",
       "    </tr>\n",
       "    <tr>\n",
       "      <th>9</th>\n",
       "      <td>Estonia</td>\n",
       "      <td>10.04</td>\n",
       "      <td>13.25</td>\n",
       "    </tr>\n",
       "    <tr>\n",
       "      <th>10</th>\n",
       "      <td>Belarus</td>\n",
       "      <td>11.16</td>\n",
       "      <td>14.02</td>\n",
       "    </tr>\n",
       "    <tr>\n",
       "      <th>11</th>\n",
       "      <td>Germany</td>\n",
       "      <td>8.25</td>\n",
       "      <td>10.62</td>\n",
       "    </tr>\n",
       "    <tr>\n",
       "      <th>12</th>\n",
       "      <td>Swaziland</td>\n",
       "      <td>27.41</td>\n",
       "      <td>29.74</td>\n",
       "    </tr>\n",
       "    <tr>\n",
       "      <th>13</th>\n",
       "      <td>Lithuania</td>\n",
       "      <td>8.75</td>\n",
       "      <td>10.98</td>\n",
       "    </tr>\n",
       "    <tr>\n",
       "      <th>14</th>\n",
       "      <td>Croatia</td>\n",
       "      <td>9.61</td>\n",
       "      <td>11.48</td>\n",
       "    </tr>\n",
       "  </tbody>\n",
       "</table>\n",
       "</div>"
      ],
      "text/plain": [
       "         country  birth-rate  death-rate\n",
       "0       Botswana       23.08       29.50\n",
       "1        Ukraine        8.82       14.39\n",
       "2         Russia        9.95       14.65\n",
       "3       Bulgaria        9.65       14.27\n",
       "4         Latvia        9.24       13.66\n",
       "5        Lesotho       24.75       28.71\n",
       "6   South Africa       18.20       22.00\n",
       "7         Monaco        9.19       12.91\n",
       "8        Hungary        9.72       13.11\n",
       "9        Estonia       10.04       13.25\n",
       "10       Belarus       11.16       14.02\n",
       "11       Germany        8.25       10.62\n",
       "12     Swaziland       27.41       29.74\n",
       "13     Lithuania        8.75       10.98\n",
       "14       Croatia        9.61       11.48"
      ]
     },
     "execution_count": 21,
     "metadata": {},
     "output_type": "execute_result"
    }
   ],
   "source": [
    "#Q16: What are the top 15 countries that have the smallest gap between birth rate and death rate?\n",
    "\n",
    "q16 = qry(\"\"\"\n",
    "SELECT country, `birth-rate` , `death-rate`\n",
    "FROM countries\n",
    "ORDER BY `birth-rate` - `death-rate` ASC\n",
    "\"\"\", cap = 15)\n",
    "q16"
   ]
  },
  {
   "cell_type": "code",
   "execution_count": 22,
   "metadata": {},
   "outputs": [
    {
     "data": {
      "text/plain": [
       "[<matplotlib.axis.XTick at 0xd59faf0>,\n",
       " <matplotlib.axis.XTick at 0xd59fad8>,\n",
       " <matplotlib.axis.XTick at 0xd58f688>,\n",
       " <matplotlib.axis.XTick at 0xd6f2130>]"
      ]
     },
     "execution_count": 22,
     "metadata": {},
     "output_type": "execute_result"
    },
    {
     "data": {
      "image/png": "[encoded data removed]",
      "text/plain": [
       "<Figure size 432x288 with 1 Axes>"
      ]
     },
     "metadata": {
      "needs_background": "light"
     },
     "output_type": "display_data"
    }
   ],
   "source": [
    "#Q17: What are the top 15 countries that have the smallest gap between birth rate and death rate? (answer with a plot)\n",
    "\n",
    "ax = q16.plot.barh(x=\"country\", y=[\"birth-rate\", 'death-rate'], xlim=0, ylim=0)\n",
    "ax.set_ylabel(\"country\")\n",
    "ax.set_xticks([10,20,30,40])"
   ]
  },
  {
   "cell_type": "code",
   "execution_count": 23,
   "metadata": {},
   "outputs": [
    {
     "data": {
      "text/plain": [
       "Text(0, 0.5, 'gdp-per-capita')"
      ]
     },
     "execution_count": 23,
     "metadata": {},
     "output_type": "execute_result"
    },
    {
     "data": {
      "image/png": "[encoded data removed]",
      "text/plain": [
       "<Figure size 432x288 with 1 Axes>"
      ]
     },
     "metadata": {
      "needs_background": "light"
     },
     "output_type": "display_data"
    }
   ],
   "source": [
    "#Q18: What is the relationship between population and gdp-per-capita? (answer with a plot)\n",
    "\n",
    "ax = countries.plot.scatter(x=\"population\", y=\"gdp-per-capita\", c='r', xlim=0, ylim=0)\n",
    "ax.set_xlabel('population')\n",
    "ax.set_ylabel(\"gdp-per-capita\")"
   ]
  },
  {
   "cell_type": "code",
   "execution_count": 24,
   "metadata": {},
   "outputs": [
    {
     "data": {
      "text/html": [
       "<div>\n",
       "<style scoped>\n",
       "    .dataframe tbody tr th:only-of-type {\n",
       "        vertical-align: middle;\n",
       "    }\n",
       "\n",
       "    .dataframe tbody tr th {\n",
       "        vertical-align: top;\n",
       "    }\n",
       "\n",
       "    .dataframe thead th {\n",
       "        text-align: right;\n",
       "    }\n",
       "</style>\n",
       "<table border=\"1\" class=\"dataframe\">\n",
       "  <thead>\n",
       "    <tr style=\"text-align: right;\">\n",
       "      <th></th>\n",
       "      <th>country</th>\n",
       "      <th>population</th>\n",
       "      <th>gdp-per-capita</th>\n",
       "    </tr>\n",
       "  </thead>\n",
       "  <tbody>\n",
       "    <tr>\n",
       "      <th>0</th>\n",
       "      <td>India</td>\n",
       "      <td>1095351995</td>\n",
       "      <td>2900</td>\n",
       "    </tr>\n",
       "    <tr>\n",
       "      <th>1</th>\n",
       "      <td>China</td>\n",
       "      <td>1313973713</td>\n",
       "      <td>5000</td>\n",
       "    </tr>\n",
       "    <tr>\n",
       "      <th>2</th>\n",
       "      <td>United States</td>\n",
       "      <td>298444215</td>\n",
       "      <td>37800</td>\n",
       "    </tr>\n",
       "    <tr>\n",
       "      <th>3</th>\n",
       "      <td>Luxembourg</td>\n",
       "      <td>474413</td>\n",
       "      <td>55100</td>\n",
       "    </tr>\n",
       "  </tbody>\n",
       "</table>\n",
       "</div>"
      ],
      "text/plain": [
       "         country  population  gdp-per-capita\n",
       "0          India  1095351995            2900\n",
       "1          China  1313973713            5000\n",
       "2  United States   298444215           37800\n",
       "3     Luxembourg      474413           55100"
      ]
     },
     "execution_count": 24,
     "metadata": {},
     "output_type": "execute_result"
    }
   ],
   "source": [
    "#Q19: Did you notice the four outliers? Which countries are they?\n",
    "\n",
    "q19 = qry(\"\"\"\n",
    "SELECT country, `population` , `gdp-per-capita`\n",
    "FROM countries\n",
    "WHERE `population` >= 250000000 OR `gdp-per-capita`>=40000 \n",
    "ORDER BY `gdp-per-capita` ASC\n",
    "\"\"\", cap = 15)\n",
    "q19"
   ]
  },
  {
   "cell_type": "code",
   "execution_count": 25,
   "metadata": {},
   "outputs": [
    {
     "data": {
      "image/png": "[encoded data removed]",
      "text/plain": [
       "<Figure size 432x288 with 1 Axes>"
      ]
     },
     "metadata": {},
     "output_type": "display_data"
    }
   ],
   "source": [
    "#Q20: what are the top 12 countries that have the largest real GDP? (answer with a plot)\n",
    "type(q6['Real GDP(billion)'])\n",
    "\n",
    "\n",
    "q6 = q6.set_index(\"country\")\n",
    "\n",
    "plot = q6.plot.pie(y='Real GDP(billion)')\n",
    "plot.axes.get_yaxis().set_visible(False)\n",
    "plot.axes.get_xaxis().set_visible(False)\n",
    "plot.get_legend().remove()"
   ]
  },
  {
   "cell_type": "code",
   "execution_count": null,
   "metadata": {},
   "outputs": [],
   "source": []
  }
 ],
 "metadata": {
  "kernelspec": {
   "display_name": "Python 3",
   "language": "python",
   "name": "python3"
  },
  "language_info": {
   "codemirror_mode": {
    "name": "ipython",
    "version": 3
   },
   "file_extension": ".py",
   "mimetype": "text/x-python",
   "name": "python",
   "nbconvert_exporter": "python",
   "pygments_lexer": "ipython3",
   "version": "3.8.5"
  }
 },
 "nbformat": 4,
 "nbformat_minor": 4
}
